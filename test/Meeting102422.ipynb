{
 "cells": [
  {
   "cell_type": "markdown",
   "source": [
    "# Meeting 20221026\n",
    "- **Excute the bootstrap result without selecting well logs**\n",
    "- **Try Kirging water level data**\n",
    "- **Compare corrected water level data with gamma water level data**\n"
   ],
   "metadata": {
    "collapsed": false
   }
  },
  {
   "cell_type": "markdown",
   "source": [
    "Initial setup"
   ],
   "metadata": {
    "collapsed": false
   }
  },
  {
   "cell_type": "code",
   "execution_count": null,
   "outputs": [],
   "source": [
    "import os\n",
    "import numpy as np\n",
    "import tTEM_toolbox as tt\n",
    "import pandas as pd\n",
    "import plotly.offline as po\n",
    "import plotly.graph_objects as go\n",
    "import plotly.express as px\n",
    "from pyproj import Transformer\n",
    "import pykrige as pk\n",
    "from plotly.offline import init_notebook_mode\n",
    "init_notebook_mode(connected = True)\n",
    "#import importlib\n",
    "#importlib.reload(tt.bootstrap)"
   ],
   "metadata": {
    "collapsed": false
   }
  },
  {
   "cell_type": "code",
   "execution_count": null,
   "outputs": [],
   "source": [
    "os.chdir(r'C:\\Users\\jldz9\\OneDrive - University of Missouri\\MST\\Code\\Python\\tTEM_test\\well_Utah')\n",
    "well_info = r'C:\\Users\\jldz9\\OneDrive - University of Missouri\\MST\\Code\\Python\\tTEM_test\\well_Utah\\USGSdownload\\NWISMapperExport.xlsx'\n",
    "location = r\"C:\\Users\\jldz9\\OneDrive - University of Missouri\\MST\\Code\\Python\\Gamma\\location.csv\"\n",
    "welllog = r'C:\\Users\\jldz9\\OneDrive - University of Missouri\\MST\\Code\\Python\\tTEM_test\\Plot_with_well_log\\Well_log.xlsx'\n",
    "elevation = r'C:\\Users\\jldz9\\OneDrive - University of Missouri\\MST\\Code\\Python\\tTEM_test\\well_Utah\\usgs_water_elevation.csv'\n",
    "ttemname = r'C:\\Users\\jldz9\\OneDrive - University of Missouri\\MST\\Code\\Python\\tTEM_test\\Plot_with_well_log\\PD1_I01_MOD.xyz'\n",
    "ttemname2 = r'C:\\Users\\jldz9\\OneDrive - University of Missouri\\MST\\Code\\Python\\tTEM_test\\Plot_with_well_log\\PD22_I03_MOD.xyz'\n",
    "DOI = r'C:\\Users\\jldz9\\OneDrive - University of Missouri\\MST\\Code\\Python\\tTEM_test\\Plot_with_well_log\\DOID1_DOIStaE.xyz'\n",
    "time = '2022-3'\n",
    "def splt_ttem(ttem_df, gwsurface_result):\n",
    "    def get_distance(group1, group2):\n",
    "        dis = np.sqrt((group1[0] - group2[0]) ** 2 + (group1[1] - group2[1]) ** 2)\n",
    "        return dis\n",
    "    abv_water_table = []\n",
    "    blw_water_table = []\n",
    "    ttem_groups = ttem_df.groupby(['UTMX', 'UTMY'])\n",
    "    well_location = gwsurface_result[['UTMX', 'UTMY']].values\n",
    "    for name, group in ttem_groups:\n",
    "        ttem_xy = list(group[['UTMX', 'UTMY']].iloc[0])\n",
    "        ttem_well_distance = list(map(lambda x: get_distance(ttem_xy, x), well_location))\n",
    "        match = gwsurface_result.iloc[ttem_well_distance.index(min(ttem_well_distance))]\n",
    "        elevation = match['water_elevation']\n",
    "        ttem_abv = group[group['Elevation_End'] >= elevation]\n",
    "        abv_water_table.append(ttem_abv)\n",
    "        ttem_blw = group[group['Elevation_End'] < elevation]\n",
    "        blw_water_table.append(ttem_blw)\n",
    "\n",
    "    ttem_above = pd.concat(abv_water_table)\n",
    "    ttem_below = pd.concat(blw_water_table)\n",
    "    return ttem_above, ttem_below\n",
    "def plot_bst(dataframe):\n",
    "    \"\"\"\n",
    "    plot bootstrap result\n",
    "\n",
    "    :param dataframe:\n",
    "    :return: plotly fig\n",
    "    \"\"\"\n",
    "    fig_hist = go.Figure()\n",
    "    fig_hist.data = []\n",
    "    fig_hist.add_trace(go.Histogram(x=dataframe.fine, name='Fine', marker_color='Blue', opacity=0.75))\n",
    "    fig_hist.add_trace(go.Histogram(x=dataframe.coarse, name='Coarse', marker_color='Red', opacity=0.75))\n",
    "    if dataframe.mix.sum() == 0:\n",
    "        print(\"skip plot mix because there is no data\")\n",
    "    else:\n",
    "        fig_hist.add_trace(go.Histogram(x=dataframe.mix, name='Mix', marker_color='Green', opacity=0.75))\n",
    "    fig_hist.update_layout(paper_bgcolor='white',plot_bgcolor='white',font_color='black')\n",
    "\n",
    "    return fig_hist"
   ],
   "metadata": {
    "collapsed": false
   }
  },
  {
   "cell_type": "code",
   "execution_count": null,
   "outputs": [],
   "source": [
    "water = tt.main.GWSurface(waterwell=well_info)"
   ],
   "metadata": {
    "collapsed": false
   }
  },
  {
   "cell_type": "code",
   "execution_count": null,
   "outputs": [],
   "source": [
    "water_format = water.format(elevation=None, time=time)\n",
    "water_format13_3 =  water.format(elevation=None, time='2013-3')\n",
    "water_format12_11 = water.format(elevation=None, time='2012-11')\n",
    "elevation_diff12_13 = water_format12_11['sl_lev_va2012-11'].subtract(water_format13_3['sl_lev_va2013-3'])\n",
    "#water_format.dropna(inplace=True)\n",
    "water_format.to_csv(r'D:\\demo.csv')\n",
    "water_format['water_elevation'] = water_format['sl_lev_va2022-3']"
   ],
   "metadata": {
    "collapsed": false
   }
  },
  {
   "cell_type": "code",
   "execution_count": null,
   "outputs": [],
   "source": [
    "water_diff_krig = pk.ok.OrdinaryKriging(water_format[\"UTMX\"], water_format['UTMY'],elevation_diff12_13)"
   ],
   "metadata": {
    "collapsed": false
   }
  },
  {
   "cell_type": "code",
   "execution_count": null,
   "outputs": [],
   "source": [
    "water_kirg = pk.ok.OrdinaryKriging(water_format[\"UTMX\"], water_format['UTMY'],water_format['sl_lev_va2022-3'])\n",
    "x = np.arange(np.min(water_format['UTMX'])-5000, np.max(water_format['UTMX'])+5000,500)\n",
    "y = np.arange(np.min(water_format['UTMY'])-5000, np.max(water_format['UTMY'])+5000,500)\n",
    "z,ss = water_kirg.execute('grid',x, y)\n",
    "z_diff, ss_diff = water_diff_krig.execute('grid',x,y)\n",
    "x_grid,y_grid=np.meshgrid(x,y)\n",
    "x_flat = x_grid.flatten()\n",
    "y_flat = y_grid.flatten()\n",
    "z_flat = (z+z_diff).flatten()\n",
    "water_kirg_org = pd.DataFrame({'UTMX':x_flat,'UTMY':y_flat,'water_elevation':z.flatten()})\n",
    "water_corrected = pd.DataFrame({'UTMX':x_flat,'UTMY':y_flat,'water_elevation':z_flat})"
   ],
   "metadata": {
    "collapsed": false
   }
  },
  {
   "cell_type": "code",
   "execution_count": null,
   "outputs": [],
   "source": [
    "fig = go.Figure()\n",
    "trace = go.Scatter3d(x=x_flat,y=y_flat,z=z_flat)\n",
    "fig.add_trace(trace)\n",
    "trace_org = tt.plot.generate_trace(water_format,'water')\n",
    "init_notebook_mode(connected = True)\n",
    "fig.add_trace(trace_org)\n",
    "fig.update_layout(scene_aspectmode='data')\n",
    "                  #scene_aspectratio=dict(x=1,y=1,z=0.3))"
   ],
   "metadata": {
    "collapsed": false
   }
  },
  {
   "cell_type": "code",
   "execution_count": null,
   "outputs": [],
   "source": [
    "from pyproj import Transformer\n",
    "transformer = Transformer.from_crs('epsg:4326', 'epsg:32612')\n",
    "location = r'C:\\Users\\jldz9\\OneDrive - University of Missouri\\MST\\Code\\Python\\Gamma\\location.csv'\n",
    "location_df = pd.read_csv(location)\n",
    "long = location_df['X']\n",
    "lat = location_df['Y']\n",
    "x, y = transformer.transform(lat, long)\n",
    "trace_gamma = go.Scatter3d(x=x,y=y,z=location_df['water_level'])\n",
    "fig.add_trace(trace_gamma)\n",
    "fig.update_layout(scene_aspectmode='data')"
   ],
   "metadata": {
    "collapsed": false
   }
  },
  {
   "cell_type": "code",
   "execution_count": null,
   "outputs": [],
   "source": [
    "ttem = tt.main.ProcessTTEM(ttem_path=[ttemname, ttemname2],\n",
    "                                   welllog=welllog,\n",
    "                                   DOI_path=DOI,\n",
    "                                   layer_exclude=[])\n",
    "data = ttem.data()\n",
    "ttem_match, well_match = tt.bootstrap.select_closest(data,\n",
    "                                                     tt.process_well.format_well(welllog, upscale=100),distance=1000,\n",
    "                                                       showskip=False)\n",
    "ttem_above_wt, ttem_below_wt = splt_ttem(data, water_corrected)\n",
    "bootstrap_above = tt.main.ProcessTTEM(ttem_path=ttem_above_wt, welllog=welllog)\n",
    "bootstrap_above_result = bootstrap_above.ttem_well_connect(distance=1000)\n",
    "bootstrap_below = tt.main.ProcessTTEM(ttem_path=ttem_below_wt, welllog=welllog)\n",
    "bootstrap_below_result = bootstrap_below.ttem_well_connect(distance=1000)"
   ],
   "metadata": {
    "collapsed": false
   }
  },
  {
   "cell_type": "code",
   "execution_count": null,
   "outputs": [],
   "source": [
    "ttem_above_match, well_match = tt.bootstrap.select_closest(ttem_above_wt,tt.process_well.format_well(welllog, upscale=100),distance=1000,showskip=False)\n",
    "ttem_below_match, well_match = tt.bootstrap.select_closest(ttem_below_wt,tt.process_well.format_well(welllog, upscale=100),distance=1000,showskip=False)"
   ],
   "metadata": {
    "collapsed": false
   }
  },
  {
   "cell_type": "code",
   "execution_count": null,
   "outputs": [],
   "source": [
    "ttem_above_match.shape"
   ],
   "metadata": {
    "collapsed": false
   }
  },
  {
   "cell_type": "code",
   "execution_count": null,
   "outputs": [],
   "source": [
    "ttem_below_match.shape"
   ],
   "metadata": {
    "collapsed": false
   }
  },
  {
   "cell_type": "code",
   "execution_count": null,
   "outputs": [],
   "source": [
    "import importlib; importlib.reload(tt.Rock_trans)\n",
    "res_conf_df = tt.bootstrap.packup(bootstrap_above_result[1]['fine'],bootstrap_above_result[1]['mix'], bootstrap_above_result[1]['coarse'] )\n",
    "rk_trans = tt.Rock_trans.rock_transform(bootstrap_above_result[0], res_conf_df)"
   ],
   "metadata": {
    "collapsed": false
   }
  },
  {
   "cell_type": "code",
   "execution_count": null,
   "outputs": [],
   "source": [
    "res_conf_df"
   ],
   "metadata": {
    "collapsed": false
   }
  },
  {
   "cell_type": "code",
   "execution_count": null,
   "outputs": [],
   "source": [
    "import importlib\n",
    "importlib.reload(tt.plot)\n",
    "trace_ttem = tt.plot.generate_trace(bootstrap_above.data(),'ttem')\n",
    "#fig.add_trace(trace_ttem)\n",
    "fig.show()"
   ],
   "metadata": {
    "collapsed": false
   }
  },
  {
   "cell_type": "code",
   "execution_count": null,
   "outputs": [],
   "source": [
    "fig_hist_ab=plot_bst(bootstrap_above_result[1])\n",
    "fig_hist_ab.show(renderer='browser')"
   ],
   "metadata": {
    "collapsed": false
   }
  },
  {
   "cell_type": "code",
   "execution_count": null,
   "outputs": [],
   "source": [
    "fig_hist_bl=plot_bst(bootstrap_below_result[1])\n",
    "fig_hist_bl.show(renderer='browser')"
   ],
   "metadata": {
    "collapsed": false
   }
  },
  {
   "cell_type": "code",
   "execution_count": null,
   "outputs": [],
   "source": [
    "ttem_above_wt.Resistivity.plot.hist()"
   ],
   "metadata": {
    "collapsed": false
   }
  },
  {
   "cell_type": "code",
   "execution_count": null,
   "outputs": [],
   "source": [
    "ttem_below_wt.Resistivity.plot.hist()"
   ],
   "metadata": {
    "collapsed": false
   }
  },
  {
   "cell_type": "code",
   "execution_count": null,
   "outputs": [],
   "source": [
    "#Rock transform\n",
    "colorRes = [[0, 'rgb(0,0,190)'],\n",
    "            [1 / 16, 'rgb(0,75,220)'],\n",
    "            [2 / 16, 'rgb(0,150,235)'],\n",
    "            [3 / 16, 'rgb(0,200,255)'],\n",
    "            [4 / 16, 'rgb(80,240,255)'],\n",
    "            [5 / 16, 'rgb(30,210,0)'],\n",
    "            [6 / 16, 'rgb(180,255,30)'],\n",
    "            [7 / 16, 'rgb(255,255,0)'],\n",
    "            [8 / 16, 'rgb(255,195,0)'],\n",
    "            [9 / 16, 'rgb(255,115,0)'],\n",
    "            [10 / 16, 'rgb(255,0,0)'],\n",
    "            [11 / 16, 'rgb(255,0,120)'],\n",
    "            [12 / 16, 'rgb(140,40,180)'],\n",
    "            [13 / 16, 'rgb(165,70,220)'],\n",
    "            [14 / 16, 'rgb(195,130,240)'],\n",
    "            [15 / 16, 'rgb(230,155,240)'],\n",
    "            [1, 'rgb(230,155,255)']]\n",
    "colorrock = [[0, 'rgb(30,144,255)'],\n",
    "                 [0.5, 'rgb(255,255,0)'],\n",
    "                 [1,'rgb(255,0,0)']]"
   ],
   "metadata": {
    "collapsed": false
   }
  },
  {
   "cell_type": "code",
   "execution_count": null,
   "outputs": [],
   "source": [
    "line100 = data[data['Line_No'] == 100]\n",
    "line100 = line100[(line100['UTMX'] <= 350118.90) & (line100['UTMX']>349221.50)]\n",
    "line100['distance'] = np.sqrt(line100['UTMX'].copy()**2 + line100['UTMY'].copy()**2)\n",
    "line100['distance'] = line100['distance'] - line100['distance'].min()\n",
    "grid_y, grid_x = np.mgrid[line100['Elevation_Cell'].max():line100['Elevation_Cell'].min():690j, line100['distance'].min():line100['distance'].max():3120j]\n",
    "grid_z1 = np.full((690,3120),np.nan)\n",
    "groups = line100.groupby('distance')\n",
    "for name, group in groups:\n",
    "    x_index = np.where((grid_x>=name-1) & (grid_x <=name+1))[1][0]\n",
    "    for index, line in group.iterrows():\n",
    "        y_index = np.where((grid_y[:,x_index] <= line['Elevation_Cell']) & (grid_y[:,x_index]>=line['Elevation_End']))[0]\n",
    "        grid_z1[y_index[0]-2:y_index[-1]+2,x_index-3:x_index+3] = np.log10(line['Resistivity'])\n",
    "fig=px.imshow(grid_z1,range_color=(0,3),color_continuous_scale=colorRes)\n",
    "fig.update_layout(paper_bgcolor='white',plot_bgcolor='white',font_color='black')\n",
    "fig.update_layout(yaxis=dict(title='Elevation (m)',tickmode='array',tickvals=[0,100,200,300,400,500,600]\n",
    "                             ,ticktext=['1779','1767.5','1756','1744.5','1733','1721.5','1710']),\n",
    "                  xaxis=dict(title='Distance (m)'))\n",
    "fig.update_coloraxes(colorbar=dict(ticks='outside',title='Resistivity', tickvals=[0,1,2,3], ticktext=['1','10','100','1000'],tickmode='array',len=0.5))\n",
    "fig.show(renderer='browser')\n",
    "fig_ttem = go.Figure(trace_ttem)\n",
    "fig_ttem.add_trace(trace)\n",
    "fig_ttem.show(renderer='browser')"
   ],
   "metadata": {
    "collapsed": false
   }
  },
  {
   "cell_type": "code",
   "execution_count": null,
   "outputs": [],
   "source": [
    "rock100 = rk_trans[rk_trans['Line_No'] == 100]\n",
    "rock100 = rock100[(rock100['UTMX'] <= 350539.30) & (rock100['UTMX']>349221.50)]\n",
    "rock100['distance'] = np.sqrt(rock100['UTMX'].copy()**2 + rock100['UTMY'].copy()**2)\n",
    "rock100['distance'] = rock100['distance'] - rock100['distance'].min()\n",
    "grid_y, grid_x = np.mgrid[rock100['Elevation_Cell'].max():rock100['Elevation_Cell'].min():690j, rock100['distance'].min():rock100['distance'].max():3120j]\n",
    "grid_z1 = np.full((690,3120),np.nan)\n",
    "groups = rock100.groupby('distance')\n",
    "for name, group in groups:\n",
    "    x_index = np.where((grid_x>=name-1) & (grid_x <=name+1))[1][0]\n",
    "    for index, line in group.iterrows():\n",
    "        y_index = np.where((grid_y[:,x_index] <= line['Elevation_Cell']) & (grid_y[:,x_index]>=line['Elevation_End']))[0]\n",
    "        grid_z1[y_index[0]-2:y_index[-1]+2,x_index-3:x_index+3] = line['Identity_n']\n",
    "fig_rock=px.imshow(grid_z1, range_color=(1,3),color_continuous_scale=colorrock)\n",
    "fig_rock.show(renderer='browser')"
   ],
   "metadata": {
    "collapsed": false
   }
  },
  {
   "cell_type": "code",
   "execution_count": null,
   "outputs": [],
   "source": [
    "fig.show(renderer='browser')"
   ],
   "metadata": {
    "collapsed": false
   }
  },
  {
   "cell_type": "code",
   "execution_count": null,
   "outputs": [],
   "source": [
    "trace=tt.plot.generate_trace(line100,'ttem')\n",
    "line100 = data[data['Line_No'] == 100]\n",
    "line100 = line100[(line100['UTMX'] <= 350539.30) & (line100['UTMX']>349221.50)]\n",
    "water_level = []\n",
    "groups = line100.groupby(['UTMX','UTMY'])\n",
    "for name, group in groups:\n",
    "    water_corrected['distance'] = np.sqrt((water_corrected['UTMX']-name[0])**2+(water_corrected['UTMY']-name[1])**2)\n",
    "    water_level.append(water_corrected[water_corrected['distance']==water_corrected['distance'].min()])\n",
    "filter_water_elevation = pd.concat(water_level)\n",
    "fig_water = go.Scatter3d(x=filter_water_elevation['UTMX'],y=filter_water_elevation['UTMY'],z=filter_water_elevation['water_elevation'])\n",
    "fig = go.Figure(trace)\n",
    "fig.add_trace(fig_water)\n",
    "fig.show(renderer='browser')"
   ],
   "metadata": {
    "collapsed": false
   }
  },
  {
   "cell_type": "code",
   "execution_count": null,
   "outputs": [],
   "source": [
    "water_corrected"
   ],
   "metadata": {
    "collapsed": false
   }
  },
  {
   "cell_type": "code",
   "execution_count": null,
   "outputs": [],
   "source": [
    "filter_water_elevation"
   ],
   "metadata": {
    "collapsed": false
   }
  },
  {
   "cell_type": "code",
   "execution_count": null,
   "outputs": [],
   "source": [],
   "metadata": {
    "collapsed": false
   }
  }
 ],
 "metadata": {
  "kernelspec": {
   "display_name": "Python 3",
   "language": "python",
   "name": "python3"
  },
  "language_info": {
   "codemirror_mode": {
    "name": "ipython",
    "version": 2
   },
   "file_extension": ".py",
   "mimetype": "text/x-python",
   "name": "python",
   "nbconvert_exporter": "python",
   "pygments_lexer": "ipython2",
   "version": "2.7.6"
  }
 },
 "nbformat": 4,
 "nbformat_minor": 0
}
